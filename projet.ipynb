{
 "cells": [
  {
   "cell_type": "markdown",
   "id": "cbfcece7",
   "metadata": {},
   "source": [
    "# Optimization and computational methods' project"
   ]
  },
  {
   "cell_type": "code",
   "execution_count": 3,
   "id": "883b69bd",
   "metadata": {},
   "outputs": [],
   "source": [
    "import cvxpy as cvx\n",
    "import numpy as np"
   ]
  },
  {
   "cell_type": "code",
   "execution_count": 8,
   "id": "d203c6b8",
   "metadata": {},
   "outputs": [
    {
     "data": {
      "text/plain": [
       "30"
      ]
     },
     "execution_count": 8,
     "metadata": {},
     "output_type": "execute_result"
    }
   ],
   "source": [
    "np.sum([[[1,2] , [2, 3]], [[4, 5], [6, 7]]])"
   ]
  },
  {
   "cell_type": "markdown",
   "id": "b0a10b4e",
   "metadata": {},
   "source": [
    "## Relaxation du programme linéaire"
   ]
  },
  {
   "cell_type": "markdown",
   "id": "59195dbf",
   "metadata": {},
   "source": [
    "Soient un ensemble de bureaux $\\{1, \\dots, n\\}$ et un ensemble de phase $\\{1, \\dots, p\\}$.\n",
    "\n",
    "$x_{ijp}$ vaut 1 si le bureau i doit partir vers le bureau j à la phase p.\n",
    "\n",
    "Relaxation : $0 <= x_{ijp} <= 1$"
   ]
  },
  {
   "cell_type": "markdown",
   "id": "59ee8c6a",
   "metadata": {},
   "source": [
    "$$\n",
    "    \\begin{array}{lll}\n",
    "        {minimize}_{\\mathbf{w} \\in \\mathbb{R}^N}\n",
    "        &\\frac{1}{2}\\mathbf{w}^T \\mathbf{w} + \\mathbf{b}^T \\mathbf{w} &\\\\\n",
    "        {s.t.} &\\mathbf{A}^T \\mathbf{w} = \\mathbf{0} \\\\\n",
    "        &\\mathbf{w} \\ge -\\gamma \\mathbf{e}_N \\\\\n",
    "        &\\mathbf{-w} \\ge -\\gamma \\mathbf{e}_N.\n",
    "    \\end{array}\n",
    "$$"
   ]
  },
  {
   "cell_type": "code",
   "execution_count": 52,
   "id": "c6b920be",
   "metadata": {},
   "outputs": [],
   "source": [
    "offices = {1, 2, 3, 4, 5}\n",
    "couleurs = {\"Rouge\" : 1, \"Vert\" : 2, \"Bleu\" : 3, \"Jaune\" : 4}\n",
    "#A = np.array(([, 1, 0, 0, 0],\\\n",
    " #            [0, 0, 0, 0, 5], [0, 0, 1, 0, 0], [1, 0, 0, 0, 0], [0, 0, 0, 0, 0]) )\n",
    "n = len(offices)\n",
    "p = A.shape[0]\n",
    "N = n * n * p\n",
    "X = cvx.Variable(N)\n",
    "c = np.array([1] * N )\n",
    "# Define objective in CVX - CVX has a number of built-in routines\n",
    "a1 = np.array()\n",
    "A = np.array([1, ])\n",
    "b = np.array([1, ])\n",
    "objective = cvx.Minimize(c.T @ X)\n",
    "\n",
    "# Define constraints in CVX\n",
    "#constraints = [A.T @ w == 0, w >= (-gamma * eN ), -w >= (-gamma * eN)]\n",
    "# Define and solve the problem\n",
    "constraints = [X >= 0, A @ x == b]\n",
    "prob = cvx.Problem(objective,constraints)"
   ]
  },
  {
   "cell_type": "code",
   "execution_count": 53,
   "id": "3dbfd573",
   "metadata": {},
   "outputs": [],
   "source": [
    "result = prob.solve(verbose=False)"
   ]
  },
  {
   "cell_type": "code",
   "execution_count": 55,
   "id": "678f2d6e",
   "metadata": {},
   "outputs": [
    {
     "data": {
      "text/plain": [
       "array([0., 0., 0., 0., 0., 0., 0., 0., 0., 0., 0., 0., 0., 0., 0., 0., 0.,\n",
       "       0., 0., 0., 0., 0., 0., 0., 0., 0., 0., 0., 0., 0., 0., 0., 0., 0.,\n",
       "       0., 0., 0., 0., 0., 0., 0., 0., 0., 0., 0., 0., 0., 0., 0., 0., 0.,\n",
       "       0., 0., 0., 0., 0., 0., 0., 0., 0., 0., 0., 0., 0., 0., 0., 0., 0.,\n",
       "       0., 0., 0., 0., 0., 0., 0., 0., 0., 0., 0., 0., 0., 0., 0., 0., 0.,\n",
       "       0., 0., 0., 0., 0., 0., 0., 0., 0., 0., 0., 0., 0., 0., 0., 0., 0.,\n",
       "       0., 0., 0., 0., 0., 0., 0., 0., 0., 0., 0., 0., 0., 0., 0., 0., 0.,\n",
       "       0., 0., 0., 0., 0., 0.])"
      ]
     },
     "execution_count": 55,
     "metadata": {},
     "output_type": "execute_result"
    }
   ],
   "source": [
    "X.value"
   ]
  },
  {
   "cell_type": "code",
   "execution_count": 24,
   "id": "72836e9c",
   "metadata": {},
   "outputs": [
    {
     "data": {
      "text/plain": [
       "array([ True,  True,  True])"
      ]
     },
     "execution_count": 24,
     "metadata": {},
     "output_type": "execute_result"
    }
   ],
   "source": [
    "np.array([1, 2, 3]) >= 0"
   ]
  },
  {
   "cell_type": "code",
   "execution_count": null,
   "id": "b6a0b3de",
   "metadata": {},
   "outputs": [],
   "source": []
  }
 ],
 "metadata": {
  "kernelspec": {
   "display_name": "Python 3 (ipykernel)",
   "language": "python",
   "name": "python3"
  },
  "language_info": {
   "codemirror_mode": {
    "name": "ipython",
    "version": 3
   },
   "file_extension": ".py",
   "mimetype": "text/x-python",
   "name": "python",
   "nbconvert_exporter": "python",
   "pygments_lexer": "ipython3",
   "version": "3.10.12"
  }
 },
 "nbformat": 4,
 "nbformat_minor": 5
}
